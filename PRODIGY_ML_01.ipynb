{
  "nbformat": 4,
  "nbformat_minor": 0,
  "metadata": {
    "colab": {
      "provenance": [],
      "authorship_tag": "ABX9TyM366DwFocgpKyb2V+J7Js3",
      "include_colab_link": true
    },
    "kernelspec": {
      "name": "python3",
      "display_name": "Python 3"
    },
    "language_info": {
      "name": "python"
    }
  },
  "cells": [
    {
      "cell_type": "markdown",
      "metadata": {
        "id": "view-in-github",
        "colab_type": "text"
      },
      "source": [
        "<a href=\"https://colab.research.google.com/github/SIVAKAMISREEJHA-G/PRODIGY-INFOTECH/blob/main/PRODIGY_ML_01.ipynb\" target=\"_parent\"><img src=\"https://colab.research.google.com/assets/colab-badge.svg\" alt=\"Open In Colab\"/></a>"
      ]
    },
    {
      "cell_type": "code",
      "source": [
        "import numpy as np\n",
        "import pandas as pd\n",
        "from sklearn.datasets import fetch_california_housing\n",
        "from sklearn.model_selection import train_test_split\n",
        "from sklearn.linear_model import LinearRegression\n",
        "from sklearn.metrics import mean_squared_error, r2_score\n",
        "\n",
        "\n",
        "california = fetch_california_housing()\n",
        "data = pd.DataFrame(california.data, columns=california.feature_names)\n",
        "data['PRICE'] = california.target\n",
        "\n",
        "\n",
        "X = data[['MedInc', 'HouseAge', 'AveRooms']]\n",
        "y = data['PRICE']\n",
        "\n",
        "\n",
        "X_train, X_test, y_train, y_test = train_test_split(X, y, test_size=0.2, random_state=42)\n",
        "\n",
        "\n",
        "model = LinearRegression()\n",
        "model.fit(X_train, y_train)\n",
        "y_pred = model.predict(X_test)\n",
        "\n",
        "mse = mean_squared_error(y_test, y_pred)\n",
        "r2 = r2_score(y_test, y_pred)\n",
        "\n",
        "\n",
        "print(\"Model Coefficients:\")\n",
        "print(f\"Intercept: {model.intercept_:.2f}\")\n",
        "print(f\"MedInc (median income): {model.coef_[0]:.2f}\")\n",
        "print(f\"HouseAge: {model.coef_[1]:.2f}\")\n",
        "print(f\"AveRooms (average rooms): {model.coef_[2]:.2f}\")\n",
        "\n",
        "print(\"\\nEvaluation Metrics:\")\n",
        "print(f\"Mean Squared Error: {mse:.2f}\")\n",
        "print(f\"R-squared Score: {r2:.2f}\")\n",
        "\n",
        "usd_to_inr = 75\n",
        "\n",
        "\n",
        "sample_houses = [\n",
        "    [8.3252, 41.0, 6.984127],  # High income, older house, average rooms\n",
        "    [3.1917, 21.0, 6.238137],  # Lower income, newer house, fewer rooms\n",
        "    [5.6431, 52.0, 8.288136]   # Medium income, older house, more rooms\n",
        "]\n",
        "\n",
        "print(\"\\nSample Predictions:\")\n",
        "for i, house in enumerate(sample_houses, 1):\n",
        "    prediction_usd = model.predict([house])[0]\n",
        "    prediction_inr = prediction_usd * usd_to_inr * 100000\n",
        "    print(f\"House {i}:\")\n",
        "    print(f\"  Predicted Price: ${prediction_usd:.2f} USD\")\n",
        "    print(f\"  Predicted Price: ₹{prediction_inr:.2f} INR (approximately ₹{prediction_inr/100000:.2f} lakh)\")"
      ],
      "metadata": {
        "colab": {
          "base_uri": "https://localhost:8080/"
        },
        "id": "HY6MpJri094y",
        "outputId": "b952b327-41d2-4710-feb2-0d3d9fbf6ef4"
      },
      "execution_count": null,
      "outputs": [
        {
          "output_type": "stream",
          "name": "stdout",
          "text": [
            "Model Coefficients:\n",
            "Intercept: 0.02\n",
            "MedInc (median income): 0.44\n",
            "HouseAge: 0.02\n",
            "AveRooms (average rooms): -0.03\n",
            "\n",
            "Evaluation Metrics:\n",
            "Mean Squared Error: 0.66\n",
            "R-squared Score: 0.50\n",
            "\n",
            "Sample Predictions:\n",
            "House 1:\n",
            "  Predicted Price: $4.21 USD\n",
            "  Predicted Price: ₹31602583.64 INR (approximately ₹316.03 lakh)\n",
            "House 2:\n",
            "  Predicted Price: $1.61 USD\n",
            "  Predicted Price: ₹12110913.08 INR (approximately ₹121.11 lakh)\n",
            "House 3:\n",
            "  Predicted Price: $3.17 USD\n",
            "  Predicted Price: ₹23769630.12 INR (approximately ₹237.70 lakh)\n"
          ]
        },
        {
          "output_type": "stream",
          "name": "stderr",
          "text": [
            "/usr/local/lib/python3.10/dist-packages/sklearn/base.py:439: UserWarning: X does not have valid feature names, but LinearRegression was fitted with feature names\n",
            "  warnings.warn(\n",
            "/usr/local/lib/python3.10/dist-packages/sklearn/base.py:439: UserWarning: X does not have valid feature names, but LinearRegression was fitted with feature names\n",
            "  warnings.warn(\n",
            "/usr/local/lib/python3.10/dist-packages/sklearn/base.py:439: UserWarning: X does not have valid feature names, but LinearRegression was fitted with feature names\n",
            "  warnings.warn(\n"
          ]
        }
      ]
    }
  ]
}