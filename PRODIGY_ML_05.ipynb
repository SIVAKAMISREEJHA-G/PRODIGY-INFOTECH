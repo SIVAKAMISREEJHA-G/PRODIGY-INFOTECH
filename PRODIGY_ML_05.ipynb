{
  "nbformat": 4,
  "nbformat_minor": 0,
  "metadata": {
    "colab": {
      "provenance": [],
      "gpuType": "V28",
      "authorship_tag": "ABX9TyOj1fEMoZ5hOuNFAdcY6uVy",
      "include_colab_link": true
    },
    "kernelspec": {
      "name": "python3",
      "display_name": "Python 3"
    },
    "language_info": {
      "name": "python"
    },
    "accelerator": "TPU"
  },
  "cells": [
    {
      "cell_type": "markdown",
      "metadata": {
        "id": "view-in-github",
        "colab_type": "text"
      },
      "source": [
        "<a href=\"https://colab.research.google.com/github/SIVAKAMISREEJHA-G/PRODIGY-INFOTECH/blob/main/PRODIGY_ML_05.ipynb\" target=\"_parent\"><img src=\"https://colab.research.google.com/assets/colab-badge.svg\" alt=\"Open In Colab\"/></a>"
      ]
    },
    {
      "cell_type": "code",
      "source": [
        "import tensorflow as tf\n",
        "from tensorflow.keras.preprocessing.image import ImageDataGenerator\n",
        "from tensorflow.keras.applications import VGG16\n",
        "from tensorflow.keras.layers import Dense, Flatten\n",
        "from tensorflow.keras.models import Model\n",
        "import numpy as np\n",
        "\n",
        "\n",
        "num_classes = 2\n",
        "num_train_samples = 1000\n",
        "num_test_samples = 200\n",
        "image_size = (224, 224, 3)\n",
        "batch_size = 32\n",
        "\n",
        "\n",
        "X_train = np.random.rand(num_train_samples, *image_size)\n",
        "y_train = np.random.randint(num_classes, size=num_train_samples)\n",
        "\n",
        "X_test = np.random.rand(num_test_samples, *image_size)\n",
        "y_test = np.random.randint(num_classes, size=num_test_samples)\n",
        "\n",
        "\n",
        "y_train = tf.keras.utils.to_categorical(y_train, num_classes)\n",
        "y_test = tf.keras.utils.to_categorical(y_test, num_classes)\n",
        "\n",
        "\n",
        "train_datagen = ImageDataGenerator(\n",
        "    rescale=1./255,\n",
        "    shear_range=0.2,\n",
        "    zoom_range=0.2,\n",
        "    horizontal_flip=True)\n",
        "\n",
        "test_datagen = ImageDataGenerator(rescale=1./255)\n",
        "\n",
        "train_generator = train_datagen.flow(\n",
        "    X_train, y_train,\n",
        "    batch_size=batch_size)\n",
        "\n",
        "test_generator = test_datagen.flow(\n",
        "    X_test, y_test,\n",
        "    batch_size=batch_size)\n",
        "\n",
        "\n",
        "base_model = VGG16(weights='imagenet', include_top=False, input_shape=image_size)\n",
        "\n",
        "\n",
        "x = base_model.output\n",
        "x = Flatten()(x)\n",
        "predictions = Dense(num_classes, activation='softmax')(x)\n",
        "\n",
        "\n",
        "model = Model(inputs=base_model.input, outputs=predictions)\n",
        "\n",
        "\n",
        "for layer in base_model.layers:\n",
        "    layer.trainable = False\n",
        "\n",
        "\n",
        "model.compile(optimizer='adam', loss='categorical_crossentropy', metrics=['accuracy'])\n",
        "\n",
        "\n",
        "epochs = 5\n",
        "steps_per_epoch = num_train_samples // batch_size\n",
        "validation_steps = num_test_samples // batch_size\n",
        "\n",
        "model.fit(\n",
        "    train_generator,\n",
        "    steps_per_epoch=steps_per_epoch,\n",
        "    epochs=epochs,\n",
        "    validation_data=test_generator,\n",
        "    validation_steps=validation_steps)\n"
      ],
      "metadata": {
        "colab": {
          "base_uri": "https://localhost:8080/"
        },
        "id": "IiRJN4VZ5ehb",
        "outputId": "c4619a26-ad1f-46be-d64a-4ab7560c1988"
      },
      "execution_count": 6,
      "outputs": [
        {
          "output_type": "stream",
          "name": "stdout",
          "text": [
            "Epoch 1/5\n",
            "31/31 [==============================] - 23s 721ms/step - loss: 0.8536 - accuracy: 0.4950 - val_loss: 0.7135 - val_accuracy: 0.4896\n",
            "Epoch 2/5\n",
            "31/31 [==============================] - 22s 694ms/step - loss: 0.7631 - accuracy: 0.5155 - val_loss: 0.6955 - val_accuracy: 0.4844\n",
            "Epoch 3/5\n",
            "31/31 [==============================] - 22s 697ms/step - loss: 0.7286 - accuracy: 0.5083 - val_loss: 0.7843 - val_accuracy: 0.5052\n",
            "Epoch 4/5\n",
            "31/31 [==============================] - 22s 702ms/step - loss: 0.8373 - accuracy: 0.4628 - val_loss: 0.7533 - val_accuracy: 0.4896\n",
            "Epoch 5/5\n",
            "31/31 [==============================] - 22s 691ms/step - loss: 0.8301 - accuracy: 0.5114 - val_loss: 1.2770 - val_accuracy: 0.4896\n"
          ]
        },
        {
          "output_type": "execute_result",
          "data": {
            "text/plain": [
              "<keras.src.callbacks.History at 0x7ccdb43981c0>"
            ]
          },
          "metadata": {},
          "execution_count": 6
        }
      ]
    }
  ]
}